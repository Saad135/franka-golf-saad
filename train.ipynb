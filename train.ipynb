{
 "cells": [
  {
   "cell_type": "code",
   "execution_count": 4,
   "id": "192bc502",
   "metadata": {},
   "outputs": [],
   "source": [
    "import sys\n",
    "\n",
    "import numpy as np\n",
    "\n",
    "\n",
    "import mlflow\n",
    "from sai_rl import SAIClient\n",
    "from stable_baselines3 import PPO\n",
    "from stable_baselines3 import DDPG\n",
    "from stable_baselines3 import HerReplayBuffer\n",
    "from stable_baselines3.ddpg import MultiInputPolicy\n",
    "from stable_baselines3.common.noise import NormalActionNoise\n",
    "from stable_baselines3.common.logger import HumanOutputFormat, KVWriter, Logger\n",
    "from stable_baselines3.common.vec_env import DummyVecEnv\n",
    "\n",
    "from mlflow_tools import MLflowOutputFormat"
   ]
  },
  {
   "cell_type": "code",
   "execution_count": null,
   "id": "ea7ac1fd",
   "metadata": {},
   "outputs": [],
   "source": [
    "## Initialize the SAI client\n",
    "sai = SAIClient(comp_id=\"franka-ml-hiring\")\n",
    "env = sai.make_env()"
   ]
  },
  {
   "cell_type": "code",
   "execution_count": 12,
   "id": "38f619ee",
   "metadata": {},
   "outputs": [
    {
     "data": {
      "text/plain": [
       "{'render_modes': ['human', 'rgb_array', 'depth_array'], 'render_fps': 12}"
      ]
     },
     "execution_count": 12,
     "metadata": {},
     "output_type": "execute_result"
    }
   ],
   "source": [
    "env.metadata"
   ]
  },
  {
   "cell_type": "code",
   "execution_count": 10,
   "id": "dbd42242",
   "metadata": {},
   "outputs": [
    {
     "data": {
      "text/plain": [
       "EnvSpec(id='FrankaIkGolfCourseEnv-v0', entry_point='sai_mujoco.envs:GolfCourseEnv', reward_threshold=None, nondeterministic=False, max_episode_steps=650, order_enforce=True, disable_env_checker=False, kwargs={'env_config': {'robot_pos': [0.9, -0.5, 0.025], 'robot_quat': [0.707, 0, 0, 0.707]}, 'robot_config': {'init_qpos': {'joint1': 0.2555, 'joint2': -0.0117, 'joint3': -0.2936, 'joint4': -2.554, 'joint5': 1.5981, 'joint6': 1.4609, 'joint7': -1.7311}, 'name': 'franka_ik', 'reset_noise': 'default'}, 'deterministic_reset': False, 'render_mode': None}, namespace=None, name='FrankaIkGolfCourseEnv', version=0, additional_wrappers=(WrapperSpec(name='CustomEvaluationWrapper', entry_point='sai_rl.sai_client:CustomEvaluationWrapper', kwargs=None),), vector_entry_point=None)"
      ]
     },
     "execution_count": 10,
     "metadata": {},
     "output_type": "execute_result"
    }
   ],
   "source": [
    "env.spec"
   ]
  },
  {
   "cell_type": "code",
   "execution_count": null,
   "id": "9f270a11",
   "metadata": {},
   "outputs": [],
   "source": [
    "env.ee_site_id"
   ]
  },
  {
   "cell_type": "code",
   "execution_count": null,
   "id": "ce0eadd5",
   "metadata": {},
   "outputs": [],
   "source": [
    "env.robot_model"
   ]
  },
  {
   "cell_type": "code",
   "execution_count": 5,
   "id": "d4257c56",
   "metadata": {},
   "outputs": [],
   "source": [
    "wrapped_env = DummyVecEnv([lambda: env])"
   ]
  },
  {
   "cell_type": "code",
   "execution_count": 9,
   "id": "a8cdd90e",
   "metadata": {},
   "outputs": [
    {
     "data": {
      "text/plain": [
       "<CustomEvaluationWrapper<TimeLimit<OrderEnforcing<PassiveEnvChecker<GolfCourseEnv<FrankaIkGolfCourseEnv-v0>>>>>>"
      ]
     },
     "execution_count": 9,
     "metadata": {},
     "output_type": "execute_result"
    }
   ],
   "source": [
    "env"
   ]
  },
  {
   "cell_type": "code",
   "execution_count": 8,
   "id": "6be55a0a",
   "metadata": {},
   "outputs": [
    {
     "data": {
      "text/plain": [
       "<stable_baselines3.common.vec_env.dummy_vec_env.DummyVecEnv at 0x1abd6c70830>"
      ]
     },
     "execution_count": 8,
     "metadata": {},
     "output_type": "execute_result"
    }
   ],
   "source": [
    "wrapped_env"
   ]
  },
  {
   "cell_type": "code",
   "execution_count": 6,
   "id": "b0cc5ba2",
   "metadata": {},
   "outputs": [
    {
     "data": {
      "text/plain": [
       "Box(-inf, inf, (31,), float32)"
      ]
     },
     "execution_count": 6,
     "metadata": {},
     "output_type": "execute_result"
    }
   ],
   "source": [
    "wrapped_env.observation_space"
   ]
  },
  {
   "cell_type": "code",
   "execution_count": null,
   "id": "ffcdfa35",
   "metadata": {},
   "outputs": [],
   "source": []
  },
  {
   "cell_type": "code",
   "execution_count": null,
   "id": "1490712d",
   "metadata": {},
   "outputs": [
    {
     "data": {
      "text/html": [
       "<pre style=\"white-space:pre;overflow-x:auto;line-height:normal;font-family:Menlo,'DejaVu Sans Mono',consolas,'Courier New',monospace\">Wrapping the env with a `Monitor` wrapper\n",
       "</pre>\n"
      ],
      "text/plain": [
       "Wrapping the env with a `Monitor` wrapper\n"
      ]
     },
     "metadata": {},
     "output_type": "display_data"
    },
    {
     "data": {
      "text/html": [
       "<pre style=\"white-space:pre;overflow-x:auto;line-height:normal;font-family:Menlo,'DejaVu Sans Mono',consolas,'Courier New',monospace\">Wrapping the env in a DummyVecEnv.\n",
       "</pre>\n"
      ],
      "text/plain": [
       "Wrapping the env in a DummyVecEnv.\n"
      ]
     },
     "metadata": {},
     "output_type": "display_data"
    }
   ],
   "source": [
    "# model = DDPG.load(\"ddpg_Honelign_et_al.zip\", env=env)"
   ]
  },
  {
   "cell_type": "code",
   "execution_count": null,
   "id": "27042d01",
   "metadata": {},
   "outputs": [],
   "source": [
    "# sai.benchmark(model=model, use_custom_eval=True)"
   ]
  },
  {
   "cell_type": "code",
   "execution_count": null,
   "id": "5b3f2d2a",
   "metadata": {},
   "outputs": [],
   "source": []
  }
 ],
 "metadata": {
  "kernelspec": {
   "display_name": ".venv",
   "language": "python",
   "name": "python3"
  },
  "language_info": {
   "codemirror_mode": {
    "name": "ipython",
    "version": 3
   },
   "file_extension": ".py",
   "mimetype": "text/x-python",
   "name": "python",
   "nbconvert_exporter": "python",
   "pygments_lexer": "ipython3",
   "version": "3.13.5"
  }
 },
 "nbformat": 4,
 "nbformat_minor": 5
}
